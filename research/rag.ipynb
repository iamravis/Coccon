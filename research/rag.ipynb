{
 "cells": [
  {
   "metadata": {
    "ExecuteTime": {
     "end_time": "2024-10-05T11:14:04.113089Z",
     "start_time": "2024-10-05T11:14:00.488273Z"
    }
   },
   "cell_type": "code",
   "source": "!pip install googletrans",
   "id": "798a13ce6a335c9c",
   "outputs": [
    {
     "name": "stdout",
     "output_type": "stream",
     "text": [
      "Requirement already satisfied: googletrans in /Users/ravishankar/miniforge3/lib/python3.10/site-packages (4.0.0rc1)\r\n",
      "Collecting httpx==0.13.3\r\n",
      "  Using cached httpx-0.13.3-py3-none-any.whl (55 kB)\r\n",
      "Requirement already satisfied: sniffio in /Users/ravishankar/miniforge3/lib/python3.10/site-packages (from httpx==0.13.3->googletrans) (1.3.0)\r\n",
      "Requirement already satisfied: rfc3986<2,>=1.3 in /Users/ravishankar/miniforge3/lib/python3.10/site-packages (from httpx==0.13.3->googletrans) (1.5.0)\r\n",
      "Requirement already satisfied: idna==2.* in /Users/ravishankar/miniforge3/lib/python3.10/site-packages (from httpx==0.13.3->googletrans) (2.10)\r\n",
      "Requirement already satisfied: chardet==3.* in /Users/ravishankar/miniforge3/lib/python3.10/site-packages (from httpx==0.13.3->googletrans) (3.0.4)\r\n",
      "Requirement already satisfied: certifi in /Users/ravishankar/miniforge3/lib/python3.10/site-packages (from httpx==0.13.3->googletrans) (2024.2.2)\r\n",
      "Requirement already satisfied: hstspreload in /Users/ravishankar/miniforge3/lib/python3.10/site-packages (from httpx==0.13.3->googletrans) (2024.7.1)\r\n",
      "Collecting httpcore==0.9.*\r\n",
      "  Using cached httpcore-0.9.1-py3-none-any.whl (42 kB)\r\n",
      "Collecting h11<0.10,>=0.8\r\n",
      "  Using cached h11-0.9.0-py2.py3-none-any.whl (53 kB)\r\n",
      "Requirement already satisfied: h2==3.* in /Users/ravishankar/miniforge3/lib/python3.10/site-packages (from httpcore==0.9.*->httpx==0.13.3->googletrans) (3.2.0)\r\n",
      "Requirement already satisfied: hpack<4,>=3.0 in /Users/ravishankar/miniforge3/lib/python3.10/site-packages (from h2==3.*->httpcore==0.9.*->httpx==0.13.3->googletrans) (3.0.0)\r\n",
      "Requirement already satisfied: hyperframe<6,>=5.2.0 in /Users/ravishankar/miniforge3/lib/python3.10/site-packages (from h2==3.*->httpcore==0.9.*->httpx==0.13.3->googletrans) (5.2.0)\r\n",
      "Installing collected packages: h11, httpcore, httpx\r\n",
      "  Attempting uninstall: h11\r\n",
      "    Found existing installation: h11 0.14.0\r\n",
      "    Uninstalling h11-0.14.0:\r\n",
      "      Successfully uninstalled h11-0.14.0\r\n",
      "  Attempting uninstall: httpcore\r\n",
      "    Found existing installation: httpcore 1.0.5\r\n",
      "    Uninstalling httpcore-1.0.5:\r\n",
      "      Successfully uninstalled httpcore-1.0.5\r\n",
      "  Attempting uninstall: httpx\r\n",
      "    Found existing installation: httpx 0.27.2\r\n",
      "    Uninstalling httpx-0.27.2:\r\n",
      "      Successfully uninstalled httpx-0.27.2\r\n",
      "\u001B[31mERROR: pip's dependency resolver does not currently take into account all the packages that are installed. This behaviour is the source of the following dependency conflicts.\r\n",
      "openai 1.44.1 requires httpx<1,>=0.23.0, but you have httpx 0.13.3 which is incompatible.\r\n",
      "langsmith 0.1.121 requires httpx<1,>=0.23.0, but you have httpx 0.13.3 which is incompatible.\r\n",
      "jupyterlab 4.1.8 requires httpx>=0.25.0, but you have httpx 0.13.3 which is incompatible.\r\n",
      "chromadb 0.5.5 requires httpx>=0.27.0, but you have httpx 0.13.3 which is incompatible.\r\n",
      "apache-airflow 2.8.2 requires flask<2.3,>=2.2, but you have flask 2.3.2 which is incompatible.\r\n",
      "apache-airflow 2.8.2 requires werkzeug<3,>=2.0, but you have werkzeug 3.0.3 which is incompatible.\r\n",
      "anthropic 0.34.2 requires httpx<1,>=0.23.0, but you have httpx 0.13.3 which is incompatible.\u001B[0m\u001B[31m\r\n",
      "\u001B[0mSuccessfully installed h11-0.9.0 httpcore-0.9.1 httpx-0.13.3\r\n"
     ]
    }
   ],
   "execution_count": 2
  },
  {
   "metadata": {
    "ExecuteTime": {
     "end_time": "2024-10-05T11:14:22.189049Z",
     "start_time": "2024-10-05T11:14:22.128128Z"
    }
   },
   "cell_type": "code",
   "source": "from googletrans import Translator",
   "id": "29574aa81dbde1b6",
   "outputs": [
    {
     "ename": "AttributeError",
     "evalue": "module 'httpcore' has no attribute 'SyncHTTPTransport'",
     "output_type": "error",
     "traceback": [
      "\u001B[0;31m---------------------------------------------------------------------------\u001B[0m",
      "\u001B[0;31mAttributeError\u001B[0m                            Traceback (most recent call last)",
      "Cell \u001B[0;32mIn[3], line 1\u001B[0m\n\u001B[0;32m----> 1\u001B[0m \u001B[38;5;28;01mfrom\u001B[39;00m \u001B[38;5;21;01mgoogletrans\u001B[39;00m \u001B[38;5;28;01mimport\u001B[39;00m Translator\n",
      "File \u001B[0;32m~/miniforge3/lib/python3.10/site-packages/googletrans/__init__.py:6\u001B[0m\n\u001B[1;32m      2\u001B[0m __all__ \u001B[38;5;241m=\u001B[39m \u001B[38;5;124m'\u001B[39m\u001B[38;5;124mTranslator\u001B[39m\u001B[38;5;124m'\u001B[39m,\n\u001B[1;32m      3\u001B[0m __version__ \u001B[38;5;241m=\u001B[39m \u001B[38;5;124m'\u001B[39m\u001B[38;5;124m4.0.0-rc.1\u001B[39m\u001B[38;5;124m'\u001B[39m\n\u001B[0;32m----> 6\u001B[0m \u001B[38;5;28;01mfrom\u001B[39;00m \u001B[38;5;21;01mgoogletrans\u001B[39;00m\u001B[38;5;21;01m.\u001B[39;00m\u001B[38;5;21;01mclient\u001B[39;00m \u001B[38;5;28;01mimport\u001B[39;00m Translator\n\u001B[1;32m      7\u001B[0m \u001B[38;5;28;01mfrom\u001B[39;00m \u001B[38;5;21;01mgoogletrans\u001B[39;00m\u001B[38;5;21;01m.\u001B[39;00m\u001B[38;5;21;01mconstants\u001B[39;00m \u001B[38;5;28;01mimport\u001B[39;00m LANGCODES, LANGUAGES  \u001B[38;5;66;03m# noqa\u001B[39;00m\n",
      "File \u001B[0;32m~/miniforge3/lib/python3.10/site-packages/googletrans/client.py:30\u001B[0m\n\u001B[1;32m     26\u001B[0m EXCLUDES \u001B[38;5;241m=\u001B[39m (\u001B[38;5;124m'\u001B[39m\u001B[38;5;124men\u001B[39m\u001B[38;5;124m'\u001B[39m, \u001B[38;5;124m'\u001B[39m\u001B[38;5;124mca\u001B[39m\u001B[38;5;124m'\u001B[39m, \u001B[38;5;124m'\u001B[39m\u001B[38;5;124mfr\u001B[39m\u001B[38;5;124m'\u001B[39m)\n\u001B[1;32m     28\u001B[0m RPC_ID \u001B[38;5;241m=\u001B[39m \u001B[38;5;124m'\u001B[39m\u001B[38;5;124mMkEWBc\u001B[39m\u001B[38;5;124m'\u001B[39m\n\u001B[0;32m---> 30\u001B[0m \u001B[38;5;28;01mclass\u001B[39;00m \u001B[38;5;21;01mTranslator\u001B[39;00m:\n\u001B[1;32m     31\u001B[0m \u001B[38;5;250m    \u001B[39m\u001B[38;5;124;03m\"\"\"Google Translate ajax API implementation class\u001B[39;00m\n\u001B[1;32m     32\u001B[0m \n\u001B[1;32m     33\u001B[0m \u001B[38;5;124;03m    You have to create an instance of Translator to use this API\u001B[39;00m\n\u001B[0;32m   (...)\u001B[0m\n\u001B[1;32m     57\u001B[0m \u001B[38;5;124;03m    :type raise_exception: boolean\u001B[39;00m\n\u001B[1;32m     58\u001B[0m \u001B[38;5;124;03m    \"\"\"\u001B[39;00m\n\u001B[1;32m     60\u001B[0m     \u001B[38;5;28;01mdef\u001B[39;00m \u001B[38;5;21m__init__\u001B[39m(\u001B[38;5;28mself\u001B[39m, service_urls\u001B[38;5;241m=\u001B[39mDEFAULT_CLIENT_SERVICE_URLS, user_agent\u001B[38;5;241m=\u001B[39mDEFAULT_USER_AGENT,\n\u001B[1;32m     61\u001B[0m                  raise_exception\u001B[38;5;241m=\u001B[39mDEFAULT_RAISE_EXCEPTION,\n\u001B[1;32m     62\u001B[0m                  proxies: typing\u001B[38;5;241m.\u001B[39mDict[\u001B[38;5;28mstr\u001B[39m, httpcore\u001B[38;5;241m.\u001B[39mSyncHTTPTransport] \u001B[38;5;241m=\u001B[39m \u001B[38;5;28;01mNone\u001B[39;00m,\n\u001B[1;32m     63\u001B[0m                  timeout: Timeout \u001B[38;5;241m=\u001B[39m \u001B[38;5;28;01mNone\u001B[39;00m,\n\u001B[1;32m     64\u001B[0m                  http2\u001B[38;5;241m=\u001B[39m\u001B[38;5;28;01mTrue\u001B[39;00m,\n\u001B[1;32m     65\u001B[0m                  use_fallback\u001B[38;5;241m=\u001B[39m\u001B[38;5;28;01mFalse\u001B[39;00m):\n",
      "File \u001B[0;32m~/miniforge3/lib/python3.10/site-packages/googletrans/client.py:62\u001B[0m, in \u001B[0;36mTranslator\u001B[0;34m()\u001B[0m\n\u001B[1;32m     30\u001B[0m \u001B[38;5;28;01mclass\u001B[39;00m \u001B[38;5;21;01mTranslator\u001B[39;00m:\n\u001B[1;32m     31\u001B[0m \u001B[38;5;250m    \u001B[39m\u001B[38;5;124;03m\"\"\"Google Translate ajax API implementation class\u001B[39;00m\n\u001B[1;32m     32\u001B[0m \n\u001B[1;32m     33\u001B[0m \u001B[38;5;124;03m    You have to create an instance of Translator to use this API\u001B[39;00m\n\u001B[0;32m   (...)\u001B[0m\n\u001B[1;32m     57\u001B[0m \u001B[38;5;124;03m    :type raise_exception: boolean\u001B[39;00m\n\u001B[1;32m     58\u001B[0m \u001B[38;5;124;03m    \"\"\"\u001B[39;00m\n\u001B[1;32m     60\u001B[0m     \u001B[38;5;28;01mdef\u001B[39;00m \u001B[38;5;21m__init__\u001B[39m(\u001B[38;5;28mself\u001B[39m, service_urls\u001B[38;5;241m=\u001B[39mDEFAULT_CLIENT_SERVICE_URLS, user_agent\u001B[38;5;241m=\u001B[39mDEFAULT_USER_AGENT,\n\u001B[1;32m     61\u001B[0m                  raise_exception\u001B[38;5;241m=\u001B[39mDEFAULT_RAISE_EXCEPTION,\n\u001B[0;32m---> 62\u001B[0m                  proxies: typing\u001B[38;5;241m.\u001B[39mDict[\u001B[38;5;28mstr\u001B[39m, \u001B[43mhttpcore\u001B[49m\u001B[38;5;241;43m.\u001B[39;49m\u001B[43mSyncHTTPTransport\u001B[49m] \u001B[38;5;241m=\u001B[39m \u001B[38;5;28;01mNone\u001B[39;00m,\n\u001B[1;32m     63\u001B[0m                  timeout: Timeout \u001B[38;5;241m=\u001B[39m \u001B[38;5;28;01mNone\u001B[39;00m,\n\u001B[1;32m     64\u001B[0m                  http2\u001B[38;5;241m=\u001B[39m\u001B[38;5;28;01mTrue\u001B[39;00m,\n\u001B[1;32m     65\u001B[0m                  use_fallback\u001B[38;5;241m=\u001B[39m\u001B[38;5;28;01mFalse\u001B[39;00m):\n\u001B[1;32m     67\u001B[0m         \u001B[38;5;28mself\u001B[39m\u001B[38;5;241m.\u001B[39mclient \u001B[38;5;241m=\u001B[39m httpx\u001B[38;5;241m.\u001B[39mClient(http2\u001B[38;5;241m=\u001B[39mhttp2)\n\u001B[1;32m     68\u001B[0m         \u001B[38;5;28;01mif\u001B[39;00m proxies \u001B[38;5;129;01mis\u001B[39;00m \u001B[38;5;129;01mnot\u001B[39;00m \u001B[38;5;28;01mNone\u001B[39;00m:  \u001B[38;5;66;03m# pragma: nocover\u001B[39;00m\n",
      "\u001B[0;31mAttributeError\u001B[0m: module 'httpcore' has no attribute 'SyncHTTPTransport'"
     ]
    }
   ],
   "execution_count": 3
  },
  {
   "metadata": {
    "ExecuteTime": {
     "end_time": "2024-10-05T11:17:06.435507Z",
     "start_time": "2024-10-05T11:17:06.370466Z"
    }
   },
   "cell_type": "code",
   "source": [
    "from googletrans import Translator\n",
    "\n",
    "translator = Translator()\n",
    "translation = translator.translate('Hello, world!', dest='es')\n",
    "print(translation.text)  # Should print \"Hola, mundo!\"\n"
   ],
   "id": "ac105920f0171a0b",
   "outputs": [
    {
     "ename": "AttributeError",
     "evalue": "module 'httpcore' has no attribute 'SyncHTTPTransport'",
     "output_type": "error",
     "traceback": [
      "\u001B[0;31m---------------------------------------------------------------------------\u001B[0m",
      "\u001B[0;31mAttributeError\u001B[0m                            Traceback (most recent call last)",
      "Cell \u001B[0;32mIn[4], line 1\u001B[0m\n\u001B[0;32m----> 1\u001B[0m \u001B[38;5;28;01mfrom\u001B[39;00m \u001B[38;5;21;01mgoogletrans\u001B[39;00m \u001B[38;5;28;01mimport\u001B[39;00m Translator\n\u001B[1;32m      3\u001B[0m translator \u001B[38;5;241m=\u001B[39m Translator()\n\u001B[1;32m      4\u001B[0m translation \u001B[38;5;241m=\u001B[39m translator\u001B[38;5;241m.\u001B[39mtranslate(\u001B[38;5;124m'\u001B[39m\u001B[38;5;124mHello, world!\u001B[39m\u001B[38;5;124m'\u001B[39m, dest\u001B[38;5;241m=\u001B[39m\u001B[38;5;124m'\u001B[39m\u001B[38;5;124mes\u001B[39m\u001B[38;5;124m'\u001B[39m)\n",
      "File \u001B[0;32m~/miniforge3/lib/python3.10/site-packages/googletrans/__init__.py:6\u001B[0m\n\u001B[1;32m      2\u001B[0m __all__ \u001B[38;5;241m=\u001B[39m \u001B[38;5;124m'\u001B[39m\u001B[38;5;124mTranslator\u001B[39m\u001B[38;5;124m'\u001B[39m,\n\u001B[1;32m      3\u001B[0m __version__ \u001B[38;5;241m=\u001B[39m \u001B[38;5;124m'\u001B[39m\u001B[38;5;124m4.0.0-rc.1\u001B[39m\u001B[38;5;124m'\u001B[39m\n\u001B[0;32m----> 6\u001B[0m \u001B[38;5;28;01mfrom\u001B[39;00m \u001B[38;5;21;01mgoogletrans\u001B[39;00m\u001B[38;5;21;01m.\u001B[39;00m\u001B[38;5;21;01mclient\u001B[39;00m \u001B[38;5;28;01mimport\u001B[39;00m Translator\n\u001B[1;32m      7\u001B[0m \u001B[38;5;28;01mfrom\u001B[39;00m \u001B[38;5;21;01mgoogletrans\u001B[39;00m\u001B[38;5;21;01m.\u001B[39;00m\u001B[38;5;21;01mconstants\u001B[39;00m \u001B[38;5;28;01mimport\u001B[39;00m LANGCODES, LANGUAGES  \u001B[38;5;66;03m# noqa\u001B[39;00m\n",
      "File \u001B[0;32m~/miniforge3/lib/python3.10/site-packages/googletrans/client.py:30\u001B[0m\n\u001B[1;32m     26\u001B[0m EXCLUDES \u001B[38;5;241m=\u001B[39m (\u001B[38;5;124m'\u001B[39m\u001B[38;5;124men\u001B[39m\u001B[38;5;124m'\u001B[39m, \u001B[38;5;124m'\u001B[39m\u001B[38;5;124mca\u001B[39m\u001B[38;5;124m'\u001B[39m, \u001B[38;5;124m'\u001B[39m\u001B[38;5;124mfr\u001B[39m\u001B[38;5;124m'\u001B[39m)\n\u001B[1;32m     28\u001B[0m RPC_ID \u001B[38;5;241m=\u001B[39m \u001B[38;5;124m'\u001B[39m\u001B[38;5;124mMkEWBc\u001B[39m\u001B[38;5;124m'\u001B[39m\n\u001B[0;32m---> 30\u001B[0m \u001B[38;5;28;01mclass\u001B[39;00m \u001B[38;5;21;01mTranslator\u001B[39;00m:\n\u001B[1;32m     31\u001B[0m \u001B[38;5;250m    \u001B[39m\u001B[38;5;124;03m\"\"\"Google Translate ajax API implementation class\u001B[39;00m\n\u001B[1;32m     32\u001B[0m \n\u001B[1;32m     33\u001B[0m \u001B[38;5;124;03m    You have to create an instance of Translator to use this API\u001B[39;00m\n\u001B[0;32m   (...)\u001B[0m\n\u001B[1;32m     57\u001B[0m \u001B[38;5;124;03m    :type raise_exception: boolean\u001B[39;00m\n\u001B[1;32m     58\u001B[0m \u001B[38;5;124;03m    \"\"\"\u001B[39;00m\n\u001B[1;32m     60\u001B[0m     \u001B[38;5;28;01mdef\u001B[39;00m \u001B[38;5;21m__init__\u001B[39m(\u001B[38;5;28mself\u001B[39m, service_urls\u001B[38;5;241m=\u001B[39mDEFAULT_CLIENT_SERVICE_URLS, user_agent\u001B[38;5;241m=\u001B[39mDEFAULT_USER_AGENT,\n\u001B[1;32m     61\u001B[0m                  raise_exception\u001B[38;5;241m=\u001B[39mDEFAULT_RAISE_EXCEPTION,\n\u001B[1;32m     62\u001B[0m                  proxies: typing\u001B[38;5;241m.\u001B[39mDict[\u001B[38;5;28mstr\u001B[39m, httpcore\u001B[38;5;241m.\u001B[39mSyncHTTPTransport] \u001B[38;5;241m=\u001B[39m \u001B[38;5;28;01mNone\u001B[39;00m,\n\u001B[1;32m     63\u001B[0m                  timeout: Timeout \u001B[38;5;241m=\u001B[39m \u001B[38;5;28;01mNone\u001B[39;00m,\n\u001B[1;32m     64\u001B[0m                  http2\u001B[38;5;241m=\u001B[39m\u001B[38;5;28;01mTrue\u001B[39;00m,\n\u001B[1;32m     65\u001B[0m                  use_fallback\u001B[38;5;241m=\u001B[39m\u001B[38;5;28;01mFalse\u001B[39;00m):\n",
      "File \u001B[0;32m~/miniforge3/lib/python3.10/site-packages/googletrans/client.py:62\u001B[0m, in \u001B[0;36mTranslator\u001B[0;34m()\u001B[0m\n\u001B[1;32m     30\u001B[0m \u001B[38;5;28;01mclass\u001B[39;00m \u001B[38;5;21;01mTranslator\u001B[39;00m:\n\u001B[1;32m     31\u001B[0m \u001B[38;5;250m    \u001B[39m\u001B[38;5;124;03m\"\"\"Google Translate ajax API implementation class\u001B[39;00m\n\u001B[1;32m     32\u001B[0m \n\u001B[1;32m     33\u001B[0m \u001B[38;5;124;03m    You have to create an instance of Translator to use this API\u001B[39;00m\n\u001B[0;32m   (...)\u001B[0m\n\u001B[1;32m     57\u001B[0m \u001B[38;5;124;03m    :type raise_exception: boolean\u001B[39;00m\n\u001B[1;32m     58\u001B[0m \u001B[38;5;124;03m    \"\"\"\u001B[39;00m\n\u001B[1;32m     60\u001B[0m     \u001B[38;5;28;01mdef\u001B[39;00m \u001B[38;5;21m__init__\u001B[39m(\u001B[38;5;28mself\u001B[39m, service_urls\u001B[38;5;241m=\u001B[39mDEFAULT_CLIENT_SERVICE_URLS, user_agent\u001B[38;5;241m=\u001B[39mDEFAULT_USER_AGENT,\n\u001B[1;32m     61\u001B[0m                  raise_exception\u001B[38;5;241m=\u001B[39mDEFAULT_RAISE_EXCEPTION,\n\u001B[0;32m---> 62\u001B[0m                  proxies: typing\u001B[38;5;241m.\u001B[39mDict[\u001B[38;5;28mstr\u001B[39m, \u001B[43mhttpcore\u001B[49m\u001B[38;5;241;43m.\u001B[39;49m\u001B[43mSyncHTTPTransport\u001B[49m] \u001B[38;5;241m=\u001B[39m \u001B[38;5;28;01mNone\u001B[39;00m,\n\u001B[1;32m     63\u001B[0m                  timeout: Timeout \u001B[38;5;241m=\u001B[39m \u001B[38;5;28;01mNone\u001B[39;00m,\n\u001B[1;32m     64\u001B[0m                  http2\u001B[38;5;241m=\u001B[39m\u001B[38;5;28;01mTrue\u001B[39;00m,\n\u001B[1;32m     65\u001B[0m                  use_fallback\u001B[38;5;241m=\u001B[39m\u001B[38;5;28;01mFalse\u001B[39;00m):\n\u001B[1;32m     67\u001B[0m         \u001B[38;5;28mself\u001B[39m\u001B[38;5;241m.\u001B[39mclient \u001B[38;5;241m=\u001B[39m httpx\u001B[38;5;241m.\u001B[39mClient(http2\u001B[38;5;241m=\u001B[39mhttp2)\n\u001B[1;32m     68\u001B[0m         \u001B[38;5;28;01mif\u001B[39;00m proxies \u001B[38;5;129;01mis\u001B[39;00m \u001B[38;5;129;01mnot\u001B[39;00m \u001B[38;5;28;01mNone\u001B[39;00m:  \u001B[38;5;66;03m# pragma: nocover\u001B[39;00m\n",
      "\u001B[0;31mAttributeError\u001B[0m: module 'httpcore' has no attribute 'SyncHTTPTransport'"
     ]
    }
   ],
   "execution_count": 4
  }
 ],
 "metadata": {
  "kernelspec": {
   "display_name": "Python 3",
   "language": "python",
   "name": "python3"
  },
  "language_info": {
   "codemirror_mode": {
    "name": "ipython",
    "version": 2
   },
   "file_extension": ".py",
   "mimetype": "text/x-python",
   "name": "python",
   "nbconvert_exporter": "python",
   "pygments_lexer": "ipython2",
   "version": "2.7.6"
  }
 },
 "nbformat": 4,
 "nbformat_minor": 5
}
